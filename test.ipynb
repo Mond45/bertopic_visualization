{
 "cells": [
  {
   "cell_type": "code",
   "execution_count": 1,
   "metadata": {},
   "outputs": [],
   "source": [
    "import pandas as pd"
   ]
  },
  {
   "cell_type": "code",
   "execution_count": 2,
   "metadata": {},
   "outputs": [],
   "source": [
    "df = pd.read_json('cudata.json', )"
   ]
  },
  {
   "cell_type": "code",
   "execution_count": 3,
   "metadata": {},
   "outputs": [
    {
     "name": "stdout",
     "output_type": "stream",
     "text": [
      "<class 'pandas.core.frame.DataFrame'>\n",
      "RangeIndex: 20216 entries, 0 to 20215\n",
      "Data columns (total 5 columns):\n",
      " #   Column          Non-Null Count  Dtype \n",
      "---  ------          --------------  ----- \n",
      " 0   abstract        19551 non-null  object\n",
      " 1   citation_title  20215 non-null  object\n",
      " 2   classification  20216 non-null  object\n",
      " 3   date_delivered  20216 non-null  object\n",
      " 4   affil           20216 non-null  object\n",
      "dtypes: object(5)\n",
      "memory usage: 789.8+ KB\n"
     ]
    }
   ],
   "source": [
    "df.info()"
   ]
  },
  {
   "cell_type": "code",
   "execution_count": 16,
   "metadata": {},
   "outputs": [
    {
     "data": {
      "text/plain": [
       "'United States'"
      ]
     },
     "execution_count": 16,
     "metadata": {},
     "output_type": "execute_result"
    }
   ],
   "source": [
    "df['affil'].iloc[0][2]['affiliation']['country']"
   ]
  },
  {
   "cell_type": "code",
   "execution_count": 54,
   "metadata": {},
   "outputs": [],
   "source": [
    "def extract(x):\n",
    "    if isinstance(x, list):\n",
    "        return list({(e[\"affiliation\"].get('city', ''), e[\"affiliation\"].get(\"country\", e['affiliation']['country'])) for e in x})\n",
    "    else:\n",
    "        return [(x['affiliation'].get('city', ''), x['affiliation'].get('country', x['affiliation']['country']))]"
   ]
  },
  {
   "cell_type": "code",
   "execution_count": 60,
   "metadata": {},
   "outputs": [
    {
     "data": {
      "text/plain": [
       "[{'affiliation': {'country': 'Thailand',\n",
       "   'address-part': '254 Phayathai Road',\n",
       "   'postal-code': '10330',\n",
       "   '@afid': '60028190',\n",
       "   '@country': 'tha',\n",
       "   'city': 'Bangkok',\n",
       "   'organization': [{'$': 'Fuels Research Center'},\n",
       "    {'$': 'Department of Chemical Technology'},\n",
       "    {'$': 'Faculty of Science'},\n",
       "    {'$': 'Chulalongkorn University'}],\n",
       "   'affiliation-id': {'@afid': '60028190', '@dptid': '110122742'},\n",
       "   '@dptid': '110122742'},\n",
       "  'author': [{'preferred-name': {'ce:given-name': 'M.',\n",
       "     'ce:initials': 'M.',\n",
       "     'ce:surname': 'Hunsom',\n",
       "     'ce:indexed-name': 'Hunsom M.'},\n",
       "    '@author-instance-id': 'S036031991833043X-2845aad1d5cbe4cbf006be81954a233c',\n",
       "    '@seq': '1',\n",
       "    'ce:initials': 'M.',\n",
       "    '@_fa': 'true',\n",
       "    '@type': 'auth',\n",
       "    'ce:surname': 'Hunsom',\n",
       "    '@auid': '15071700400',\n",
       "    'ce:indexed-name': 'Hunsom M.'},\n",
       "   {'preferred-name': {'ce:given-name': 'D.',\n",
       "     'ce:initials': 'D.',\n",
       "     'ce:surname': 'Kaewsai',\n",
       "     'ce:indexed-name': 'Kaewsai D.'},\n",
       "    '@author-instance-id': 'S036031991833043X-05c03327f58c0a0a349a21410541862e',\n",
       "    '@seq': '2',\n",
       "    'ce:initials': 'D.',\n",
       "    '@_fa': 'true',\n",
       "    '@type': 'auth',\n",
       "    'ce:surname': 'Kaewsai',\n",
       "    '@auid': '35362095700',\n",
       "    'ce:indexed-name': 'Kaewsai D.'}]},\n",
       " {'affiliation': {'country': 'Thailand',\n",
       "   'address-part': '254 Phayathai Road',\n",
       "   'postal-code': '10330',\n",
       "   '@afid': '60028190',\n",
       "   '@country': 'tha',\n",
       "   'city': 'Bangkok',\n",
       "   'organization': [{'$': 'Center of Excellence on Petrochemical and Materials Technology (PETRO-MAT)'},\n",
       "    {'$': 'Chulalongkorn University'}],\n",
       "   'affiliation-id': [{'@afid': '60028190'}, {'@afid': '60199582'}]},\n",
       "  'author': [{'preferred-name': {'ce:given-name': 'M.',\n",
       "     'ce:initials': 'M.',\n",
       "     'ce:surname': 'Hunsom',\n",
       "     'ce:indexed-name': 'Hunsom M.'},\n",
       "    '@author-instance-id': 'S036031991833043X-2845aad1d5cbe4cbf006be81954a233c',\n",
       "    '@seq': '1',\n",
       "    'ce:initials': 'M.',\n",
       "    '@_fa': 'true',\n",
       "    '@type': 'auth',\n",
       "    'ce:surname': 'Hunsom',\n",
       "    '@auid': '15071700400',\n",
       "    'ce:indexed-name': 'Hunsom M.'}]},\n",
       " {'affiliation': {'country': 'United States',\n",
       "   'postal-code': '85212',\n",
       "   '@afid': '60004372',\n",
       "   '@country': 'usa',\n",
       "   'city': 'Mesa',\n",
       "   'organization': [{'$': 'The Polytechnic School'},\n",
       "    {'$': 'Ira. A. Fulton Schools of Engineering'},\n",
       "    {'$': 'Arizona State University'}],\n",
       "   'affiliation-id': [{'@afid': '60004372', '@dptid': '114497329'},\n",
       "    {'@afid': '60003892'}],\n",
       "   'state': 'AZ',\n",
       "   '@dptid': '114497329'},\n",
       "  'author': [{'preferred-name': {'ce:given-name': 'A. M.',\n",
       "     'ce:initials': 'A.M.',\n",
       "     'ce:surname': 'Kannan',\n",
       "     'ce:indexed-name': 'Kannan A.M.'},\n",
       "    '@author-instance-id': 'S036031991833043X-5b211eb5e40d53a5bcf12fa5b3358227',\n",
       "    '@seq': '3',\n",
       "    'ce:initials': 'A.M.',\n",
       "    '@date-locked': '2018-12-12T00:56:45.923',\n",
       "    '@_fa': 'true',\n",
       "    '@type': 'auth',\n",
       "    'ce:surname': 'Kannan',\n",
       "    '@auid': '7006605664',\n",
       "    'ce:indexed-name': 'Kannan A.M.'}]}]"
      ]
     },
     "execution_count": 60,
     "metadata": {},
     "output_type": "execute_result"
    }
   ],
   "source": [
    "df['affil'].iloc[0]"
   ]
  },
  {
   "cell_type": "code",
   "execution_count": 61,
   "metadata": {},
   "outputs": [
    {
     "ename": "AttributeError",
     "evalue": "'list' object has no attribute 'keys'",
     "output_type": "error",
     "traceback": [
      "\u001b[1;31m---------------------------------------------------------------------------\u001b[0m",
      "\u001b[1;31mAttributeError\u001b[0m                            Traceback (most recent call last)",
      "Cell \u001b[1;32mIn[61], line 1\u001b[0m\n\u001b[1;32m----> 1\u001b[0m \u001b[43mdf\u001b[49m\u001b[43m[\u001b[49m\u001b[38;5;124;43m'\u001b[39;49m\u001b[38;5;124;43maffil\u001b[39;49m\u001b[38;5;124;43m'\u001b[39;49m\u001b[43m]\u001b[49m\u001b[38;5;241;43m.\u001b[39;49m\u001b[43miloc\u001b[49m\u001b[43m[\u001b[49m\u001b[38;5;241;43m17\u001b[39;49m\u001b[43m]\u001b[49m\u001b[38;5;241;43m.\u001b[39;49m\u001b[43mkeys\u001b[49m()\n",
      "\u001b[1;31mAttributeError\u001b[0m: 'list' object has no attribute 'keys'"
     ]
    }
   ],
   "source": [
    "df['affil'].iloc[17].keys()"
   ]
  },
  {
   "cell_type": "code",
   "execution_count": 58,
   "metadata": {},
   "outputs": [
    {
     "name": "stdout",
     "output_type": "stream",
     "text": [
      "0\n",
      "1\n",
      "2\n",
      "3\n",
      "4\n",
      "5\n",
      "6\n",
      "7\n",
      "8\n",
      "9\n",
      "10\n",
      "11\n",
      "12\n",
      "13\n",
      "14\n",
      "15\n",
      "16\n",
      "17\n"
     ]
    },
    {
     "ename": "KeyError",
     "evalue": "'affiliation'",
     "output_type": "error",
     "traceback": [
      "\u001b[1;31m---------------------------------------------------------------------------\u001b[0m",
      "\u001b[1;31mKeyError\u001b[0m                                  Traceback (most recent call last)",
      "Cell \u001b[1;32mIn[58], line 3\u001b[0m\n\u001b[0;32m      1\u001b[0m \u001b[38;5;28;01mfor\u001b[39;00m i \u001b[38;5;129;01min\u001b[39;00m \u001b[38;5;28mrange\u001b[39m(df\u001b[38;5;241m.\u001b[39mshape[\u001b[38;5;241m0\u001b[39m]):\n\u001b[0;32m      2\u001b[0m     \u001b[38;5;28mprint\u001b[39m(i)\n\u001b[1;32m----> 3\u001b[0m     \u001b[43mextract\u001b[49m\u001b[43m(\u001b[49m\u001b[43mdf\u001b[49m\u001b[43m[\u001b[49m\u001b[38;5;124;43m'\u001b[39;49m\u001b[38;5;124;43maffil\u001b[39;49m\u001b[38;5;124;43m'\u001b[39;49m\u001b[43m]\u001b[49m\u001b[38;5;241;43m.\u001b[39;49m\u001b[43miloc\u001b[49m\u001b[43m[\u001b[49m\u001b[43mi\u001b[49m\u001b[43m]\u001b[49m\u001b[43m)\u001b[49m\n",
      "Cell \u001b[1;32mIn[54], line 3\u001b[0m, in \u001b[0;36mextract\u001b[1;34m(x)\u001b[0m\n\u001b[0;32m      1\u001b[0m \u001b[38;5;28;01mdef\u001b[39;00m \u001b[38;5;21mextract\u001b[39m(x):\n\u001b[0;32m      2\u001b[0m     \u001b[38;5;28;01mif\u001b[39;00m \u001b[38;5;28misinstance\u001b[39m(x, \u001b[38;5;28mlist\u001b[39m):\n\u001b[1;32m----> 3\u001b[0m         \u001b[38;5;28;01mreturn\u001b[39;00m \u001b[38;5;28mlist\u001b[39m({(e[\u001b[38;5;124m\"\u001b[39m\u001b[38;5;124maffiliation\u001b[39m\u001b[38;5;124m\"\u001b[39m]\u001b[38;5;241m.\u001b[39mget(\u001b[38;5;124m'\u001b[39m\u001b[38;5;124mcity\u001b[39m\u001b[38;5;124m'\u001b[39m, \u001b[38;5;124m'\u001b[39m\u001b[38;5;124m'\u001b[39m), e[\u001b[38;5;124m\"\u001b[39m\u001b[38;5;124maffiliation\u001b[39m\u001b[38;5;124m\"\u001b[39m]\u001b[38;5;241m.\u001b[39mget(\u001b[38;5;124m\"\u001b[39m\u001b[38;5;124mcountry\u001b[39m\u001b[38;5;124m\"\u001b[39m, e[\u001b[38;5;124m'\u001b[39m\u001b[38;5;124maffiliation\u001b[39m\u001b[38;5;124m'\u001b[39m][\u001b[38;5;124m'\u001b[39m\u001b[38;5;124mcountry\u001b[39m\u001b[38;5;124m'\u001b[39m])) \u001b[38;5;28;01mfor\u001b[39;00m e \u001b[38;5;129;01min\u001b[39;00m x})\n\u001b[0;32m      4\u001b[0m     \u001b[38;5;28;01melse\u001b[39;00m:\n\u001b[0;32m      5\u001b[0m         \u001b[38;5;28;01mreturn\u001b[39;00m [(x[\u001b[38;5;124m'\u001b[39m\u001b[38;5;124maffiliation\u001b[39m\u001b[38;5;124m'\u001b[39m]\u001b[38;5;241m.\u001b[39mget(\u001b[38;5;124m'\u001b[39m\u001b[38;5;124mcity\u001b[39m\u001b[38;5;124m'\u001b[39m, \u001b[38;5;124m'\u001b[39m\u001b[38;5;124m'\u001b[39m), x[\u001b[38;5;124m'\u001b[39m\u001b[38;5;124maffiliation\u001b[39m\u001b[38;5;124m'\u001b[39m]\u001b[38;5;241m.\u001b[39mget(\u001b[38;5;124m'\u001b[39m\u001b[38;5;124mcountry\u001b[39m\u001b[38;5;124m'\u001b[39m, x[\u001b[38;5;124m'\u001b[39m\u001b[38;5;124maffiliation\u001b[39m\u001b[38;5;124m'\u001b[39m][\u001b[38;5;124m'\u001b[39m\u001b[38;5;124mcountry\u001b[39m\u001b[38;5;124m'\u001b[39m]))]\n",
      "Cell \u001b[1;32mIn[54], line 3\u001b[0m, in \u001b[0;36m<setcomp>\u001b[1;34m(.0)\u001b[0m\n\u001b[0;32m      1\u001b[0m \u001b[38;5;28;01mdef\u001b[39;00m \u001b[38;5;21mextract\u001b[39m(x):\n\u001b[0;32m      2\u001b[0m     \u001b[38;5;28;01mif\u001b[39;00m \u001b[38;5;28misinstance\u001b[39m(x, \u001b[38;5;28mlist\u001b[39m):\n\u001b[1;32m----> 3\u001b[0m         \u001b[38;5;28;01mreturn\u001b[39;00m \u001b[38;5;28mlist\u001b[39m({(\u001b[43me\u001b[49m\u001b[43m[\u001b[49m\u001b[38;5;124;43m\"\u001b[39;49m\u001b[38;5;124;43maffiliation\u001b[39;49m\u001b[38;5;124;43m\"\u001b[39;49m\u001b[43m]\u001b[49m\u001b[38;5;241m.\u001b[39mget(\u001b[38;5;124m'\u001b[39m\u001b[38;5;124mcity\u001b[39m\u001b[38;5;124m'\u001b[39m, \u001b[38;5;124m'\u001b[39m\u001b[38;5;124m'\u001b[39m), e[\u001b[38;5;124m\"\u001b[39m\u001b[38;5;124maffiliation\u001b[39m\u001b[38;5;124m\"\u001b[39m]\u001b[38;5;241m.\u001b[39mget(\u001b[38;5;124m\"\u001b[39m\u001b[38;5;124mcountry\u001b[39m\u001b[38;5;124m\"\u001b[39m, e[\u001b[38;5;124m'\u001b[39m\u001b[38;5;124maffiliation\u001b[39m\u001b[38;5;124m'\u001b[39m][\u001b[38;5;124m'\u001b[39m\u001b[38;5;124mcountry\u001b[39m\u001b[38;5;124m'\u001b[39m])) \u001b[38;5;28;01mfor\u001b[39;00m e \u001b[38;5;129;01min\u001b[39;00m x})\n\u001b[0;32m      4\u001b[0m     \u001b[38;5;28;01melse\u001b[39;00m:\n\u001b[0;32m      5\u001b[0m         \u001b[38;5;28;01mreturn\u001b[39;00m [(x[\u001b[38;5;124m'\u001b[39m\u001b[38;5;124maffiliation\u001b[39m\u001b[38;5;124m'\u001b[39m]\u001b[38;5;241m.\u001b[39mget(\u001b[38;5;124m'\u001b[39m\u001b[38;5;124mcity\u001b[39m\u001b[38;5;124m'\u001b[39m, \u001b[38;5;124m'\u001b[39m\u001b[38;5;124m'\u001b[39m), x[\u001b[38;5;124m'\u001b[39m\u001b[38;5;124maffiliation\u001b[39m\u001b[38;5;124m'\u001b[39m]\u001b[38;5;241m.\u001b[39mget(\u001b[38;5;124m'\u001b[39m\u001b[38;5;124mcountry\u001b[39m\u001b[38;5;124m'\u001b[39m, x[\u001b[38;5;124m'\u001b[39m\u001b[38;5;124maffiliation\u001b[39m\u001b[38;5;124m'\u001b[39m][\u001b[38;5;124m'\u001b[39m\u001b[38;5;124mcountry\u001b[39m\u001b[38;5;124m'\u001b[39m]))]\n",
      "\u001b[1;31mKeyError\u001b[0m: 'affiliation'"
     ]
    }
   ],
   "source": [
    "for i in range(df.shape[0]):\n",
    "    print(i)\n",
    "    extract(df['affil'].iloc[i])"
   ]
  }
 ],
 "metadata": {
  "kernelspec": {
   "display_name": "bertopic",
   "language": "python",
   "name": "python3"
  },
  "language_info": {
   "codemirror_mode": {
    "name": "ipython",
    "version": 3
   },
   "file_extension": ".py",
   "mimetype": "text/x-python",
   "name": "python",
   "nbconvert_exporter": "python",
   "pygments_lexer": "ipython3",
   "version": "3.9.19"
  }
 },
 "nbformat": 4,
 "nbformat_minor": 2
}
