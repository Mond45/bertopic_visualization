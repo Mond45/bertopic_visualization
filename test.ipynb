{
 "cells": [
  {
   "cell_type": "code",
   "execution_count": 1,
   "metadata": {},
   "outputs": [],
   "source": [
    "import pandas as pd"
   ]
  },
  {
   "cell_type": "code",
   "execution_count": 56,
   "metadata": {},
   "outputs": [],
   "source": [
    "cleaned = pd.read_json('cleaned2.json')"
   ]
  },
  {
   "cell_type": "code",
   "execution_count": 57,
   "metadata": {},
   "outputs": [],
   "source": [
    "file_path = 'Message_1.txt'\n",
    "\n",
    "with open(file_path, 'r') as file:\n",
    "    content = file.read()\n",
    "hm = dict()\n",
    "with open(file_path, 'r') as file:\n",
    "    for line in file:\n",
    "        # Process each line here\n",
    "        arr = line.split(',') \n",
    "        arr[-1] = arr[-1].strip() \n",
    "        hm[arr[0]] = tuple(arr[1:])\n",
    "\n",
    "def get_unique_countries(row):\n",
    "    return list({e[1] for e in row})\n",
    "\n",
    "cleaned['Country'] = cleaned['affiliation'].map(get_unique_countries)\n",
    "cleaned = cleaned.explode('Country')\n",
    "cleaned['Coordinates'] = cleaned['Country'].map(hm)\n",
    "\n",
    "\n"
   ]
  },
  {
   "cell_type": "code",
   "execution_count": 59,
   "metadata": {},
   "outputs": [],
   "source": [
    "df_coord = pd.DataFrame((cleaned['Coordinates']).tolist(), columns=['Latitude', 'Longitude'], index=cleaned.index)\n",
    "\n",
    "df_coord['classification']=  cleaned['classification']\n",
    "\n",
    "def extract(row):\n",
    "    filtered = [e[\"classification\"] for e in row if e[\"@type\"] == \"SUBJABBR\"][0]\n",
    "    if not filtered:\n",
    "        return pd.DataFrame()\n",
    "    if isinstance(filtered, list):\n",
    "        return [e[\"$\"] for e in filtered]\n",
    "    return [filtered]\n",
    "\n",
    "df_coord['classification'] = df_coord['classification'].map(extract)\n",
    "df_coord.reset_index(drop=True).to_json('coord.json')"
   ]
  }
 ],
 "metadata": {
  "kernelspec": {
   "display_name": "bertopic",
   "language": "python",
   "name": "python3"
  },
  "language_info": {
   "codemirror_mode": {
    "name": "ipython",
    "version": 3
   },
   "file_extension": ".py",
   "mimetype": "text/x-python",
   "name": "python",
   "nbconvert_exporter": "python",
   "pygments_lexer": "ipython3",
   "version": "3.9.19"
  }
 },
 "nbformat": 4,
 "nbformat_minor": 2
}
